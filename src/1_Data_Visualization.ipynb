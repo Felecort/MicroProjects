{
 "cells": [
  {
   "cell_type": "markdown",
   "metadata": {},
   "source": [
    "# Data vusualization MatPlotlib  \n",
    "and: seaborn, Bokeh, ggplot"
   ]
  },
  {
   "cell_type": "code",
   "execution_count": 1,
   "metadata": {},
   "outputs": [],
   "source": [
    "from matplotlib import pyplot as plt\n",
    "from collections import Counter\n",
    "import random\n",
    "from random import randrange\n",
    "random.seed(1)\n",
    "\n",
    "import seaborn as sns\n",
    "sns.set()\n"
   ]
  },
  {
   "cell_type": "code",
   "execution_count": null,
   "metadata": {},
   "outputs": [],
   "source": [
    "y = [i * i for i in range(1, 20)]\n",
    "x = [i for i in range(1, 20)]\n",
    "plt.plot(x, y, color=\"green\", marker=\"o\", linestyle=\"solid\")\n",
    "plt.title(\"i^2\")\n",
    "plt.ylabel(\"y\")\n",
    "plt.xlabel(\"x\")\n",
    "plt.show()"
   ]
  },
  {
   "cell_type": "code",
   "execution_count": null,
   "metadata": {},
   "outputs": [],
   "source": [
    "order = [\"first\", \"second\", \"third\", \"fourth\", \"fifth\"]\n",
    "num_of_order = [5, 11, 17, 4, 7]\n",
    "xs = [i + 0.1 for i, _ in enumerate(order)]\n",
    "plt.bar(xs, num_of_order)\n",
    "plt.ylabel(\"y\")\n",
    "plt.xlabel(\"x\")\n",
    "plt.xticks([i + 0.1 for i, _ in enumerate(order)], order)\n",
    "plt.show()"
   ]
  },
  {
   "cell_type": "code",
   "execution_count": null,
   "metadata": {},
   "outputs": [],
   "source": [
    "grades = [83, 95, 91, 87, 70, 0, 85, 82, 100, 67, 73, 77,  0]\n",
    "decile = lambda grade: grade // 10 * 10\n",
    "histogram = Counter(decile(grade) for grade in grades)\n",
    "plt.bar([x - 4 for x in histogram.keys()], # Сдвиг на 4\n",
    "        histogram.values(),                # Высота столбца\n",
    "        8)                                 # Ширина столбца\n",
    "\n",
    "plt.axis([-5, 105, 0, 5])\n",
    "plt.xticks([10 * i for i in range(11)])\n",
    "plt.xlabel(\"Дециль\")\n",
    "plt.ylabel(\"Число студентов\")\n",
    "plt.title(\"Распределение оценок за экзамен\")\n",
    "plt.show()"
   ]
  },
  {
   "cell_type": "code",
   "execution_count": null,
   "metadata": {},
   "outputs": [],
   "source": [
    "mentions = [500, 505]\n",
    "years = [2013, 2014]\n",
    "plt.bar([2013, 2014], # Ось х (от до) \n",
    "        mentions,\n",
    "        0.8)\n",
    "plt.xticks(years)\n",
    "plt.ylabel(\"Число упоминаний о дс\")\n",
    "# plt.ticklabel_format(useOffset=False) # Без этого х будет от 0 до 1 \n",
    "                                      #и добавит +2е3 справа(баг)\n",
    "plt.axis([2012.5, 2014.5, 499, 506])\n",
    "plt.title(\"Какой огромный прирост\")\n",
    "plt.show()"
   ]
  },
  {
   "cell_type": "code",
   "execution_count": null,
   "metadata": {},
   "outputs": [],
   "source": [
    "mentions = [500, 505]\n",
    "years = [2013, 2014]\n",
    "plt.bar(years, # Ось х (от до) \n",
    "        mentions,\n",
    "        0.8)\n",
    "plt.xticks(years)\n",
    "plt.ylabel(\"Число упоминаний о дс\")\n",
    "plt.ticklabel_format(useOffset=False) # Без этого х будет от 0 до 1 \n",
    "                                      #и добавит +2е3 справа(баг)\n",
    "plt.axis([2012.5, 2014.5, 0, 506])\n",
    "plt.title(\"уже не такой прирост\")\n",
    "plt.show()"
   ]
  },
  {
   "cell_type": "code",
   "execution_count": null,
   "metadata": {
    "scrolled": true
   },
   "outputs": [],
   "source": [
    "variance = [2 ** i for i in range(8)] # Дисперсия\n",
    "bias_squared = variance[::-1]         # Квадрат смещениия\n",
    "total_error = [x + y for x, y in zip(variance, bias_squared)]\n",
    "xs = [i for i, _ in enumerate(variance)]\n",
    "plt.plot(xs, variance, \"g-\", label=\"Дисперсия\")\n",
    "plt.plot(xs, bias_squared, \"r-.\", label=\"смещение^2\")\n",
    "plt.plot(xs, total_error, \"b:\", label=\"суммарная ошибка\")\n",
    "plt.legend(loc=9) # пареметр label\n",
    "plt.xlabel(\"сложность\")\n",
    "plt.title(\"Компромисс между смещением и дисперсией\")\n",
    "plt.show()"
   ]
  },
  {
   "cell_type": "code",
   "execution_count": null,
   "metadata": {},
   "outputs": [],
   "source": [
    "friends = [randrange(40, 100) for _ in range(10)]\n",
    "minutes = [randrange(100, 200) for _ in range(10)]\n",
    "labels = [a for a in list(\"abcdefghig\")]\n",
    "plt.scatter(friends, minutes)\n",
    "for label, friends_count, minute_count in zip(labels, friends, minutes):\n",
    "    plt.annotate(label, \n",
    "                xy=(friends_count, minute_count),\n",
    "                xytext=(5, -5),\n",
    "                textcoords=\"offset points\")\n",
    "plt.title(\"Зависимость между количсетвом минут и числом друзей\")\n",
    "plt.xlabel(\"Число друзей\")\n",
    "plt.ylabel(\"Время, проводжимое на сайте ежедневно, мин\")\n",
    "plt.show()"
   ]
  }
 ],
 "metadata": {
  "interpreter": {
   "hash": "440ad39f97b2e332a238f8e6e8141cda1042c261720c8847e6920ef0c673e1f0"
  },
  "kernelspec": {
   "display_name": "Python 3.8.8 64-bit ('base': conda)",
   "name": "python3"
  },
  "language_info": {
   "codemirror_mode": {
    "name": "ipython",
    "version": 3
   },
   "file_extension": ".py",
   "mimetype": "text/x-python",
   "name": "python",
   "nbconvert_exporter": "python",
   "pygments_lexer": "ipython3",
   "version": "3.10.2"
  }
 },
 "nbformat": 4,
 "nbformat_minor": 5
}
